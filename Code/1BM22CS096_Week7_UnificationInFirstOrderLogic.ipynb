{
 "cells": [
  {
   "cell_type": "code",
   "execution_count": null,
   "id": "db4d8ed7-9a2c-49aa-b023-5c477318f01c",
   "metadata": {},
   "outputs": [
    {
     "name": "stdout",
     "output_type": "stream",
     "text": [
      "Enter Ψ1:  p(f(),x,'John')\n",
      "Enter Ψ2:  p(f(),'Richard',y)\n"
     ]
    },
    {
     "name": "stdout",
     "output_type": "stream",
     "text": [
      "Unification Successful!\n",
      "Substitutions:\n",
      "x -> 'Richard'\n",
      "y -> 'John'\n"
     ]
    }
   ],
   "source": [
    "# Mithun G : 1BM22CS096\n",
    "\n",
    "def is_variable(term):\n",
    "    return isinstance(term, str) and term.islower() and len(term) == 1\n",
    "\n",
    "\n",
    "def occurs_check(var, term):\n",
    "    if var == term:\n",
    "        return True\n",
    "    if isinstance(term, tuple): \n",
    "        return any(occurs_check(var, sub_term) for sub_term in term[1:])\n",
    "    return False\n",
    "\n",
    "\n",
    "def unify(psi1, psi2, subst=None):\n",
    "    \"\"\"Unify two terms psi1 and psi2.\"\"\"\n",
    "    if subst is None:\n",
    "        subst = {}\n",
    "\n",
    "    if psi1 == psi2:\n",
    "        return subst\n",
    "\n",
    "    if is_variable(psi1):\n",
    "        return unify_variable(psi1, psi2, subst)\n",
    "\n",
    "    if is_variable(psi2):\n",
    "        return unify_variable(psi2, psi1, subst)\n",
    "\n",
    "    if isinstance(psi1, tuple) and isinstance(psi2, tuple):\n",
    "        if psi1[0] != psi2[0]:  \n",
    "            return None\n",
    "\n",
    "        if len(psi1) != len(psi2):\n",
    "            return None\n",
    "\n",
    "\n",
    "        for arg1, arg2 in zip(psi1[1:], psi2[1:]):\n",
    "            subst = unify(arg1, arg2, subst)\n",
    "            if subst is None: \n",
    "                return None\n",
    "        return subst\n",
    "\n",
    "    return None\n",
    "\n",
    "\n",
    "def unify_variable(var, term, subst):\n",
    "\n",
    "    if var in subst:  \n",
    "        return unify(subst[var], term, subst)\n",
    "    elif isinstance(term, str) and term in subst: \n",
    "        return unify(var, subst[term], subst)\n",
    "    elif occurs_check(var, term):  \n",
    "        return None\n",
    "    else:  \n",
    "        subst[var] = term\n",
    "        return subst\n",
    "\n",
    "\n",
    "def parse_term(term_str):\n",
    "    term_str = term_str.strip()\n",
    "    if \"(\" in term_str and term_str.endswith(\")\"):\n",
    "        predicate = term_str[:term_str.index(\"(\")]\n",
    "        arguments = term_str[term_str.index(\"(\") + 1:-1].split(\",\")\n",
    "        return (predicate,) + tuple(arg.strip() for arg in arguments)\n",
    "    return term_str  \n",
    "\n",
    "\n",
    "psi1 = input(\"Enter Ψ1: \").strip()\n",
    "psi2 = input(\"Enter Ψ2: \").strip()\n",
    "\n",
    "term1 = parse_term(psi1)\n",
    "term2 = parse_term(psi2)\n",
    "\n",
    "result = unify(term1, term2)\n",
    "if result is not None:\n",
    "    print(\"Unification Successful!\")\n",
    "    print(\"Substitutions:\")\n",
    "    for var, value in result.items():\n",
    "        print(f\"{var} -> {value}\")\n",
    "else:\n",
    "    print(\"Unification Failed!\")\n"
   ]
  },
  {
   "cell_type": "code",
   "execution_count": null,
   "id": "7883ea1d-ccdd-49f0-abed-24c477bf4338",
   "metadata": {},
   "outputs": [],
   "source": []
  }
 ],
 "metadata": {
  "kernelspec": {
   "display_name": "Python 3 (ipykernel)",
   "language": "python",
   "name": "python3"
  },
  "language_info": {
   "codemirror_mode": {
    "name": "ipython",
    "version": 3
   },
   "file_extension": ".py",
   "mimetype": "text/x-python",
   "name": "python",
   "nbconvert_exporter": "python",
   "pygments_lexer": "ipython3",
   "version": "3.11.7"
  }
 },
 "nbformat": 4,
 "nbformat_minor": 5
}
