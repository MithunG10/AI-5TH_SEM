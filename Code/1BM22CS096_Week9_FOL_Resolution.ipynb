{
 "cells": [
  {
   "cell_type": "code",
   "execution_count": 1,
   "id": "10627694-5202-4ffa-ad4c-975a242bd809",
   "metadata": {},
   "outputs": [
    {
     "name": "stdout",
     "output_type": "stream",
     "text": [
      "The conclusion 'Likes(John, Peanuts)' is proven by resolution.\n"
     ]
    }
   ],
   "source": [
    "# Mithun G  1BM22CS096\n",
    "\n",
    "class Clause:\n",
    "    def __init__(self, literals):\n",
    "        self.literals = set(literals)\n",
    "\n",
    "    def __repr__(self):\n",
    "        return \" ∨ \".join(sorted(self.literals))\n",
    "\n",
    "    def resolve(self, other):\n",
    "        resolvents = []\n",
    "        for literal in self.literals:\n",
    "            negated_literal = f\"¬{literal}\" if not literal.startswith('¬') else literal[1:]\n",
    "            if negated_literal in other.literals:\n",
    "                new_literals = (self.literals - {literal}) | (other.literals - {negated_literal})\n",
    "                resolvents.append(Clause(new_literals))\n",
    "        return resolvents\n",
    "\n",
    "\n",
    "def resolution(clauses, query):\n",
    "    negated_query = Clause([f\"¬{query}\"])\n",
    "    clauses.append(negated_query)\n",
    "\n",
    "    new = set()\n",
    "    seen_pairs = set()\n",
    "\n",
    "    while True:\n",
    "        pairs = [(clauses[i], clauses[j]) for i in range(len(clauses)) for j in range(i + 1, len(clauses))]\n",
    "        for ci, cj in pairs:\n",
    "            if (ci, cj) in seen_pairs or (cj, ci) in seen_pairs:\n",
    "                continue\n",
    "            seen_pairs.add((ci, cj))\n",
    "\n",
    "            resolvents = ci.resolve(cj)\n",
    "            for resolvent in resolvents:\n",
    "                if not resolvent.literals:\n",
    "                    return True\n",
    "                new.add(frozenset(resolvent.literals))\n",
    "\n",
    "        if new.issubset(set(map(frozenset, (c.literals for c in clauses)))):\n",
    "            return False\n",
    "        clauses.extend(Clause(list(literals)) for literals in new - set(map(frozenset, (c.literals for c in clauses))))\n",
    "        new.clear()\n",
    "\n",
    "\n",
    "KB = [\n",
    "    Clause([\"¬Food(Peanuts)\", \"Likes(John, Peanuts)\"]),  # John likes all kinds of food\n",
    "    Clause([\"Food(Apple)\"]),\n",
    "    Clause([\"Food(Vegetables)\"]),\n",
    "    Clause([\"Food(Peanuts)\"]),  # Explicit Peanuts as Food\n",
    "    Clause([\"¬Eats(Anil, Peanuts)\", \"Food(Peanuts)\"]),\n",
    "    Clause([\"Eats(Anil, Peanuts)\"]),  # Anil eats peanuts\n",
    "    Clause([\"Alive(Anil)\"]),           # Anil is alive\n",
    "    Clause([\"¬Alive(Anil)\", \"¬Killed(Anil)\"]),  # Alive -> Not Killed\n",
    "    Clause([\"Killed(Anil)\", \"Alive(Anil)\"])     # Not Killed -> Alive\n",
    "]\n",
    "\n",
    "# Query: John likes peanuts\n",
    "query = \"Likes(John, Peanuts)\"\n",
    "\n",
    "# Run the resolution algorithm\n",
    "if resolution(KB, query):\n",
    "    print(f\"The conclusion '{query}' is proven by resolution.\")\n",
    "else:\n",
    "    print(f\"The conclusion '{query}' cannot be proven.\")"
   ]
  },
  {
   "cell_type": "code",
   "execution_count": null,
   "id": "b3d863d9-1b38-4539-8833-2f6920014221",
   "metadata": {},
   "outputs": [],
   "source": []
  }
 ],
 "metadata": {
  "kernelspec": {
   "display_name": "Python 3 (ipykernel)",
   "language": "python",
   "name": "python3"
  },
  "language_info": {
   "codemirror_mode": {
    "name": "ipython",
    "version": 3
   },
   "file_extension": ".py",
   "mimetype": "text/x-python",
   "name": "python",
   "nbconvert_exporter": "python",
   "pygments_lexer": "ipython3",
   "version": "3.12.4"
  }
 },
 "nbformat": 4,
 "nbformat_minor": 5
}
