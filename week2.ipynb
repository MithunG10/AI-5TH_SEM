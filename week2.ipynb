{
 "cells": [
  {
   "cell_type": "code",
   "execution_count": 3,
   "id": "288a255b-e030-4d2e-8216-a0506acdae1c",
   "metadata": {},
   "outputs": [
    {
     "name": "stdout",
     "output_type": "stream",
     "text": [
      "Enter the initial state of the puzzle (use 0 for the blank space):\n"
     ]
    },
    {
     "name": "stdin",
     "output_type": "stream",
     "text": [
      "Enter row 1 (3 space-separated integers):  1 8 2\n",
      "Enter row 2 (3 space-separated integers):  4 0 3\n",
      "Enter row 3 (3 space-separated integers):  7 6 5\n"
     ]
    },
    {
     "name": "stdout",
     "output_type": "stream",
     "text": [
      "Enter the goal state of the puzzle (use 0 for the blank space):\n"
     ]
    },
    {
     "name": "stdin",
     "output_type": "stream",
     "text": [
      "Enter row 1 (3 space-separated integers):  1 2 3\n",
      "Enter row 2 (3 space-separated integers):  4 5 6\n",
      "Enter row 3 (3 space-separated integers):  7 8 0\n"
     ]
    },
    {
     "name": "stdout",
     "output_type": "stream",
     "text": [
      "Solving with BFS:\n",
      "[1, 0, 2]\n",
      "[4, 8, 3]\n",
      "[7, 6, 5]\n",
      "\n",
      "[1, 2, 0]\n",
      "[4, 8, 3]\n",
      "[7, 6, 5]\n",
      "\n",
      "[1, 2, 3]\n",
      "[4, 8, 0]\n",
      "[7, 6, 5]\n",
      "\n",
      "[1, 2, 3]\n",
      "[4, 8, 5]\n",
      "[7, 6, 0]\n",
      "\n",
      "[1, 2, 3]\n",
      "[4, 8, 5]\n",
      "[7, 0, 6]\n",
      "\n",
      "[1, 2, 3]\n",
      "[4, 0, 5]\n",
      "[7, 8, 6]\n",
      "\n",
      "[1, 2, 3]\n",
      "[4, 5, 0]\n",
      "[7, 8, 6]\n",
      "\n",
      "[1, 2, 3]\n",
      "[4, 5, 6]\n",
      "[7, 8, 0]\n",
      "\n"
     ]
    }
   ],
   "source": [
    "from collections import deque\n",
    "\n",
    "# Function to find the index of the blank space (0)\n",
    "def find_blank_position(state):\n",
    "    for i in range(3):\n",
    "        for j in range(3):\n",
    "            if state[i][j] == 0:\n",
    "                return i, j\n",
    "\n",
    "# Function to check if the current state is the goal state\n",
    "def is_goal(state, goal):\n",
    "    return state == goal\n",
    "\n",
    "# Function to swap tiles\n",
    "def swap(state, pos1, pos2):\n",
    "    new_state = [row[:] for row in state]  # Make a deep copy of the state\n",
    "    new_state[pos1[0]][pos1[1]], new_state[pos2[0]][pos2[1]] = new_state[pos2[0]][pos2[1]], new_state[pos1[0]][pos1[1]]\n",
    "    return new_state\n",
    "\n",
    "# Function to generate possible moves\n",
    "def get_neighbors(state):\n",
    "    neighbors = []\n",
    "    i, j = find_blank_position(state)\n",
    "    possible_moves = [\n",
    "        (i - 1, j),  # Up\n",
    "        (i + 1, j),  # Down\n",
    "        (i, j - 1),  # Left\n",
    "        (i, j + 1)   # Right\n",
    "    ]\n",
    "    for move in possible_moves:\n",
    "        if 0 <= move[0] < 3 and 0 <= move[1] < 3:\n",
    "            neighbors.append(swap(state, (i, j), move))\n",
    "    return neighbors\n",
    "\n",
    "# Breadth First Search (BFS) Algorithm\n",
    "def bfs(initial_state, goal_state):\n",
    "    queue = deque([(initial_state, [])])\n",
    "    visited = set()\n",
    "\n",
    "    while queue:\n",
    "        current_state, path = queue.popleft()\n",
    "\n",
    "        if is_goal(current_state, goal_state):\n",
    "            return path\n",
    "\n",
    "        visited.add(tuple(map(tuple, current_state)))  # Add current state to visited\n",
    "\n",
    "        for neighbor in get_neighbors(current_state):\n",
    "            if tuple(map(tuple, neighbor)) not in visited:\n",
    "                queue.append((neighbor, path + [neighbor]))\n",
    "\n",
    "    return None  # No solution\n",
    "\n",
    "# Helper function to print the puzzle state\n",
    "def print_state(state):\n",
    "    for row in state:\n",
    "        print(row)\n",
    "    print()\n",
    "\n",
    "# Function to get user input for a 3x3 puzzle state\n",
    "def get_user_input(prompt):\n",
    "    state = []\n",
    "    print(prompt)\n",
    "    for i in range(3):\n",
    "        row = list(map(int, input(f\"Enter row {i + 1} (3 space-separated integers): \").split()))\n",
    "        state.append(row)\n",
    "    return state\n",
    "\n",
    "# Input: Initial and Goal States from user\n",
    "initial_state = get_user_input(\"Enter the initial state of the puzzle (use 0 for the blank space):\")\n",
    "goal_state = get_user_input(\"Enter the goal state of the puzzle (use 0 for the blank space):\")\n",
    "\n",
    "# Solve using BFS\n",
    "print(\"Solving with BFS:\")\n",
    "bfs_solution = bfs(initial_state, goal_state)\n",
    "if bfs_solution:\n",
    "    for step in bfs_solution:\n",
    "        print_state(step)\n",
    "else:\n",
    "    print(\"No solution found with BFS.\")"
   ]
  },
  {
   "cell_type": "code",
   "execution_count": null,
   "id": "40609371-b221-41db-9f14-98290348fa3b",
   "metadata": {},
   "outputs": [
    {
     "name": "stdout",
     "output_type": "stream",
     "text": [
      "Enter the initial state of the puzzle (use 0 for the blank space):\n"
     ]
    },
    {
     "name": "stdin",
     "output_type": "stream",
     "text": [
      "Enter row 1 (3 space-separated integers):  1 8 2\n",
      "Enter row 2 (3 space-separated integers):  4 0 3\n",
      "Enter row 3 (3 space-separated integers):  7 6 5\n"
     ]
    },
    {
     "name": "stdout",
     "output_type": "stream",
     "text": [
      "Enter the goal state of the puzzle (use 0 for the blank space):\n"
     ]
    },
    {
     "name": "stdin",
     "output_type": "stream",
     "text": [
      "Enter row 1 (3 space-separated integers):  1 2 3\n",
      "Enter row 2 (3 space-separated integers):  4 5 6\n",
      "Enter row 3 (3 space-separated integers):  7 8 0\n"
     ]
    },
    {
     "name": "stdout",
     "output_type": "stream",
     "text": [
      "Solving with DFS:\n"
     ]
    }
   ],
   "source": [
    "def find_blank_position(state):\n",
    "    for i in range(3):\n",
    "        for j in range(3):\n",
    "            if state[i][j] == 0:\n",
    "                return i, j\n",
    "\n",
    "# Function to check if the current state is the goal state\n",
    "def is_goal(state, goal):\n",
    "    return state == goal\n",
    "\n",
    "# Function to swap tiles\n",
    "def swap(state, pos1, pos2):\n",
    "    new_state = [row[:] for row in state]  # Make a deep copy of the state\n",
    "    new_state[pos1[0]][pos1[1]], new_state[pos2[0]][pos2[1]] = new_state[pos2[0]][pos2[1]], new_state[pos1[0]][pos1[1]]\n",
    "    return new_state\n",
    "\n",
    "# Function to generate possible moves\n",
    "def get_neighbors(state):\n",
    "    neighbors = []\n",
    "    i, j = find_blank_position(state)\n",
    "    possible_moves = [\n",
    "        (i - 1, j),  # Up\n",
    "        (i + 1, j),  # Down\n",
    "        (i, j - 1),  # Left\n",
    "        (i, j + 1)   # Right\n",
    "    ]\n",
    "    for move in possible_moves:\n",
    "        if 0 <= move[0] < 3 and 0 <= move[1] < 3:\n",
    "            neighbors.append(swap(state, (i, j), move))\n",
    "    return neighbors\n",
    "\n",
    "# Depth First Search (DFS) Algorithm\n",
    "def dfs(initial_state, goal_state):\n",
    "    stack = [(initial_state, [])]\n",
    "    visited = set()\n",
    "\n",
    "    while stack:\n",
    "        current_state, path = stack.pop()\n",
    "\n",
    "        if is_goal(current_state, goal_state):\n",
    "            return path\n",
    "\n",
    "        visited.add(tuple(map(tuple, current_state)))  # Add current state to visited\n",
    "\n",
    "        for neighbor in get_neighbors(current_state):\n",
    "            if tuple(map(tuple, neighbor)) not in visited:\n",
    "                stack.append((neighbor, path + [neighbor]))\n",
    "\n",
    "    return None  # No solution\n",
    "\n",
    "# Helper function to print the puzzle state\n",
    "def print_state(state):\n",
    "    for row in state:\n",
    "        print(row)\n",
    "    print()\n",
    "\n",
    "# Function to get user input for a 3x3 puzzle state\n",
    "def get_user_input(prompt):\n",
    "    state = []\n",
    "    print(prompt)\n",
    "    for i in range(3):\n",
    "        row = list(map(int, input(f\"Enter row {i + 1} (3 space-separated integers): \").split()))\n",
    "        state.append(row)\n",
    "    return state\n",
    "\n",
    "# Input: Initial and Goal States from user\n",
    "initial_state = get_user_input(\"Enter the initial state of the puzzle (use 0 for the blank space):\")\n",
    "goal_state = get_user_input(\"Enter the goal state of the puzzle (use 0 for the blank space):\")\n",
    "\n",
    "# Solve using DFS\n",
    "print(\"Solving with DFS:\")\n",
    "dfs_solution = dfs(initial_state, goal_state)\n",
    "if dfs_solution:\n",
    "    for step in dfs_solution:\n",
    "        print_state(step)\n",
    "else:\n",
    "    print(\"No solution found with DFS.\")\n"
   ]
  },
  {
   "cell_type": "code",
   "execution_count": null,
   "id": "858b7782-5b9c-4e3b-b169-7cc2f1332809",
   "metadata": {},
   "outputs": [],
   "source": []
  }
 ],
 "metadata": {
  "kernelspec": {
   "display_name": "Python 3 (ipykernel)",
   "language": "python",
   "name": "python3"
  },
  "language_info": {
   "codemirror_mode": {
    "name": "ipython",
    "version": 3
   },
   "file_extension": ".py",
   "mimetype": "text/x-python",
   "name": "python",
   "nbconvert_exporter": "python",
   "pygments_lexer": "ipython3",
   "version": "3.12.4"
  }
 },
 "nbformat": 4,
 "nbformat_minor": 5
}
